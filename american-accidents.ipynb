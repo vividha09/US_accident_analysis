{
 "cells": [
  {
   "cell_type": "code",
   "execution_count": 1,
   "id": "552ce463",
   "metadata": {
    "execution": {
     "iopub.execute_input": "2023-02-19T09:14:53.839727Z",
     "iopub.status.busy": "2023-02-19T09:14:53.839007Z",
     "iopub.status.idle": "2023-02-19T09:14:53.853287Z",
     "shell.execute_reply": "2023-02-19T09:14:53.852365Z"
    },
    "papermill": {
     "duration": 0.031017,
     "end_time": "2023-02-19T09:14:53.855741",
     "exception": false,
     "start_time": "2023-02-19T09:14:53.824724",
     "status": "completed"
    },
    "tags": []
   },
   "outputs": [],
   "source": [
    "import pandas as pd"
   ]
  },
  {
   "cell_type": "markdown",
   "id": "dc8cfe72",
   "metadata": {
    "papermill": {
     "duration": 0.010387,
     "end_time": "2023-02-19T09:14:53.877139",
     "exception": false,
     "start_time": "2023-02-19T09:14:53.866752",
     "status": "completed"
    },
    "tags": []
   },
   "source": [
    "# US Accidents Exploraory Data Analysis\n",
    "\n",
    "- this does not contain data about New York"
   ]
  },
  {
   "cell_type": "markdown",
   "id": "394ce869",
   "metadata": {
    "papermill": {
     "duration": 0.010456,
     "end_time": "2023-02-19T09:14:53.898379",
     "exception": false,
     "start_time": "2023-02-19T09:14:53.887923",
     "status": "completed"
    },
    "tags": []
   },
   "source": []
  },
  {
   "cell_type": "code",
   "execution_count": null,
   "id": "9645edaf",
   "metadata": {
    "execution": {
     "iopub.execute_input": "2023-02-19T08:40:18.390161Z",
     "iopub.status.busy": "2023-02-19T08:40:18.388756Z",
     "iopub.status.idle": "2023-02-19T08:40:56.110166Z",
     "shell.execute_reply": "2023-02-19T08:40:56.108715Z",
     "shell.execute_reply.started": "2023-02-19T08:40:18.390116Z"
    },
    "papermill": {
     "duration": null,
     "end_time": null,
     "exception": false,
     "start_time": "2023-02-19T09:14:53.909118",
     "status": "running"
    },
    "tags": []
   },
   "outputs": [],
   "source": [
    "df = pd.read_csv(\"/kaggle/input/us-accidents/US_Accidents_Dec21_updated.csv\")"
   ]
  },
  {
   "cell_type": "code",
   "execution_count": null,
   "id": "486e6c0c",
   "metadata": {
    "execution": {
     "iopub.execute_input": "2023-02-19T05:07:03.063849Z",
     "iopub.status.busy": "2023-02-19T05:07:03.063499Z",
     "iopub.status.idle": "2023-02-19T05:07:03.070239Z",
     "shell.execute_reply": "2023-02-19T05:07:03.069319Z",
     "shell.execute_reply.started": "2023-02-19T05:07:03.063822Z"
    },
    "papermill": {
     "duration": null,
     "end_time": null,
     "exception": null,
     "start_time": null,
     "status": "pending"
    },
    "tags": []
   },
   "outputs": [],
   "source": [
    "df.columns "
   ]
  },
  {
   "cell_type": "code",
   "execution_count": null,
   "id": "465331cb",
   "metadata": {
    "execution": {
     "iopub.execute_input": "2023-02-19T05:09:03.867346Z",
     "iopub.status.busy": "2023-02-19T05:09:03.866740Z",
     "iopub.status.idle": "2023-02-19T05:09:03.877084Z",
     "shell.execute_reply": "2023-02-19T05:09:03.876120Z",
     "shell.execute_reply.started": "2023-02-19T05:09:03.867313Z"
    },
    "papermill": {
     "duration": null,
     "end_time": null,
     "exception": null,
     "start_time": null,
     "status": "pending"
    },
    "tags": []
   },
   "outputs": [],
   "source": [
    "len(df.columns)"
   ]
  },
  {
   "cell_type": "code",
   "execution_count": null,
   "id": "849a8fdb",
   "metadata": {
    "execution": {
     "iopub.execute_input": "2023-02-19T05:10:35.678987Z",
     "iopub.status.busy": "2023-02-19T05:10:35.678692Z",
     "iopub.status.idle": "2023-02-19T05:10:35.699697Z",
     "shell.execute_reply": "2023-02-19T05:10:35.698509Z",
     "shell.execute_reply.started": "2023-02-19T05:10:35.678964Z"
    },
    "papermill": {
     "duration": null,
     "end_time": null,
     "exception": null,
     "start_time": null,
     "status": "pending"
    },
    "tags": []
   },
   "outputs": [],
   "source": [
    "df.info()"
   ]
  },
  {
   "cell_type": "code",
   "execution_count": null,
   "id": "b2c3873d",
   "metadata": {
    "execution": {
     "iopub.execute_input": "2023-02-19T06:17:53.226479Z",
     "iopub.status.busy": "2023-02-19T06:17:53.225969Z",
     "iopub.status.idle": "2023-02-19T06:17:55.411921Z",
     "shell.execute_reply": "2023-02-19T06:17:55.410777Z",
     "shell.execute_reply.started": "2023-02-19T06:17:53.226438Z"
    },
    "papermill": {
     "duration": null,
     "end_time": null,
     "exception": null,
     "start_time": null,
     "status": "pending"
    },
    "tags": []
   },
   "outputs": [],
   "source": [
    "df.describe()"
   ]
  },
  {
   "cell_type": "code",
   "execution_count": null,
   "id": "a44c6920",
   "metadata": {
    "execution": {
     "iopub.execute_input": "2023-02-19T06:20:24.603838Z",
     "iopub.status.busy": "2023-02-19T06:20:24.603355Z",
     "iopub.status.idle": "2023-02-19T06:20:24.742298Z",
     "shell.execute_reply": "2023-02-19T06:20:24.741315Z",
     "shell.execute_reply.started": "2023-02-19T06:20:24.603804Z"
    },
    "papermill": {
     "duration": null,
     "end_time": null,
     "exception": null,
     "start_time": null,
     "status": "pending"
    },
    "tags": []
   },
   "outputs": [],
   "source": [
    "numerics = ['int16', 'int32', 'int64', 'float16', 'float32', 'float64']\n",
    "newdf = df.select_dtypes(include=numerics)\n",
    "len(newdf.columns)"
   ]
  },
  {
   "cell_type": "code",
   "execution_count": null,
   "id": "0bce1e11",
   "metadata": {
    "execution": {
     "iopub.execute_input": "2023-02-19T06:27:30.334071Z",
     "iopub.status.busy": "2023-02-19T06:27:30.333581Z",
     "iopub.status.idle": "2023-02-19T06:27:33.104907Z",
     "shell.execute_reply": "2023-02-19T06:27:33.103613Z",
     "shell.execute_reply.started": "2023-02-19T06:27:30.334033Z"
    },
    "papermill": {
     "duration": null,
     "end_time": null,
     "exception": null,
     "start_time": null,
     "status": "pending"
    },
    "tags": []
   },
   "outputs": [],
   "source": [
    "missing_perc = df.isna().sum().sort_values(ascending = False) / len(df)\n",
    "missing_perc"
   ]
  },
  {
   "cell_type": "code",
   "execution_count": null,
   "id": "108aa744",
   "metadata": {
    "execution": {
     "iopub.execute_input": "2023-02-19T06:30:34.288767Z",
     "iopub.status.busy": "2023-02-19T06:30:34.288283Z",
     "iopub.status.idle": "2023-02-19T06:30:34.300848Z",
     "shell.execute_reply": "2023-02-19T06:30:34.299294Z",
     "shell.execute_reply.started": "2023-02-19T06:30:34.288733Z"
    },
    "papermill": {
     "duration": null,
     "end_time": null,
     "exception": null,
     "start_time": null,
     "status": "pending"
    },
    "tags": []
   },
   "outputs": [],
   "source": [
    "type(missing_perc)"
   ]
  },
  {
   "cell_type": "code",
   "execution_count": null,
   "id": "e08d4156",
   "metadata": {
    "execution": {
     "iopub.execute_input": "2023-02-19T06:31:52.678427Z",
     "iopub.status.busy": "2023-02-19T06:31:52.677923Z",
     "iopub.status.idle": "2023-02-19T06:31:52.690460Z",
     "shell.execute_reply": "2023-02-19T06:31:52.688690Z",
     "shell.execute_reply.started": "2023-02-19T06:31:52.678389Z"
    },
    "papermill": {
     "duration": null,
     "end_time": null,
     "exception": null,
     "start_time": null,
     "status": "pending"
    },
    "tags": []
   },
   "outputs": [],
   "source": [
    "missing_perc[missing_perc != 0]"
   ]
  },
  {
   "cell_type": "code",
   "execution_count": null,
   "id": "10b2d75b",
   "metadata": {
    "execution": {
     "iopub.execute_input": "2023-02-19T06:33:03.773485Z",
     "iopub.status.busy": "2023-02-19T06:33:03.772976Z",
     "iopub.status.idle": "2023-02-19T06:33:04.180865Z",
     "shell.execute_reply": "2023-02-19T06:33:04.179452Z",
     "shell.execute_reply.started": "2023-02-19T06:33:03.773449Z"
    },
    "papermill": {
     "duration": null,
     "end_time": null,
     "exception": null,
     "start_time": null,
     "status": "pending"
    },
    "tags": []
   },
   "outputs": [],
   "source": [
    "missing_perc[missing_perc != 0].plot(kind='barh')"
   ]
  },
  {
   "cell_type": "code",
   "execution_count": null,
   "id": "c73b304f",
   "metadata": {
    "papermill": {
     "duration": null,
     "end_time": null,
     "exception": null,
     "start_time": null,
     "status": "pending"
    },
    "tags": []
   },
   "outputs": [],
   "source": []
  },
  {
   "cell_type": "markdown",
   "id": "06539033",
   "metadata": {
    "papermill": {
     "duration": null,
     "end_time": null,
     "exception": null,
     "start_time": null,
     "status": "pending"
    },
    "tags": []
   },
   "source": [
    "# Exploratory analysis and visualization\n",
    " columns we will analyze:\n",
    " 1. City\n",
    " 2. Start time\n",
    " 3. start lat, start lng\n",
    " 4. temperature\n",
    " 5. weather condition\n"
   ]
  },
  {
   "cell_type": "markdown",
   "id": "f15e19b0",
   "metadata": {
    "papermill": {
     "duration": null,
     "end_time": null,
     "exception": null,
     "start_time": null,
     "status": "pending"
    },
    "tags": []
   },
   "source": [
    "## City"
   ]
  },
  {
   "cell_type": "code",
   "execution_count": null,
   "id": "e9d774eb",
   "metadata": {
    "execution": {
     "iopub.execute_input": "2023-02-19T06:41:16.605902Z",
     "iopub.status.busy": "2023-02-19T06:41:16.605265Z",
     "iopub.status.idle": "2023-02-19T06:41:16.882308Z",
     "shell.execute_reply": "2023-02-19T06:41:16.880210Z",
     "shell.execute_reply.started": "2023-02-19T06:41:16.605864Z"
    },
    "papermill": {
     "duration": null,
     "end_time": null,
     "exception": null,
     "start_time": null,
     "status": "pending"
    },
    "tags": []
   },
   "outputs": [],
   "source": [
    "cities = df.City.unique()\n",
    "len(cities)"
   ]
  },
  {
   "cell_type": "code",
   "execution_count": null,
   "id": "19ae5e79",
   "metadata": {
    "execution": {
     "iopub.execute_input": "2023-02-19T06:45:32.366232Z",
     "iopub.status.busy": "2023-02-19T06:45:32.365794Z",
     "iopub.status.idle": "2023-02-19T06:45:32.666453Z",
     "shell.execute_reply": "2023-02-19T06:45:32.664765Z",
     "shell.execute_reply.started": "2023-02-19T06:45:32.366167Z"
    },
    "papermill": {
     "duration": null,
     "end_time": null,
     "exception": null,
     "start_time": null,
     "status": "pending"
    },
    "tags": []
   },
   "outputs": [],
   "source": [
    "cities_by_accidents = df.City.value_counts()\n",
    "cities_by_accidents"
   ]
  },
  {
   "cell_type": "code",
   "execution_count": null,
   "id": "8f33f1e1",
   "metadata": {
    "execution": {
     "iopub.execute_input": "2023-02-19T06:46:13.039831Z",
     "iopub.status.busy": "2023-02-19T06:46:13.039369Z",
     "iopub.status.idle": "2023-02-19T06:46:13.051607Z",
     "shell.execute_reply": "2023-02-19T06:46:13.049992Z",
     "shell.execute_reply.started": "2023-02-19T06:46:13.039797Z"
    },
    "papermill": {
     "duration": null,
     "end_time": null,
     "exception": null,
     "start_time": null,
     "status": "pending"
    },
    "tags": []
   },
   "outputs": [],
   "source": [
    "cities_by_accidents[:20]"
   ]
  },
  {
   "cell_type": "code",
   "execution_count": null,
   "id": "8d64dc14",
   "metadata": {
    "execution": {
     "iopub.execute_input": "2023-02-19T06:49:15.814703Z",
     "iopub.status.busy": "2023-02-19T06:49:15.814216Z",
     "iopub.status.idle": "2023-02-19T06:49:15.823965Z",
     "shell.execute_reply": "2023-02-19T06:49:15.822910Z",
     "shell.execute_reply.started": "2023-02-19T06:49:15.814660Z"
    },
    "papermill": {
     "duration": null,
     "end_time": null,
     "exception": null,
     "start_time": null,
     "status": "pending"
    },
    "tags": []
   },
   "outputs": [],
   "source": [
    "'New York' in df.City"
   ]
  },
  {
   "cell_type": "code",
   "execution_count": null,
   "id": "a8699905",
   "metadata": {
    "execution": {
     "iopub.execute_input": "2023-02-19T06:53:27.022328Z",
     "iopub.status.busy": "2023-02-19T06:53:27.021858Z",
     "iopub.status.idle": "2023-02-19T06:53:27.363254Z",
     "shell.execute_reply": "2023-02-19T06:53:27.359882Z",
     "shell.execute_reply.started": "2023-02-19T06:53:27.022289Z"
    },
    "papermill": {
     "duration": null,
     "end_time": null,
     "exception": null,
     "start_time": null,
     "status": "pending"
    },
    "tags": []
   },
   "outputs": [],
   "source": [
    "cities_by_accidents[:20].plot(kind='barh')"
   ]
  },
  {
   "cell_type": "code",
   "execution_count": null,
   "id": "da64fc90",
   "metadata": {
    "execution": {
     "iopub.execute_input": "2023-02-19T08:42:34.989399Z",
     "iopub.status.busy": "2023-02-19T08:42:34.988873Z",
     "iopub.status.idle": "2023-02-19T08:42:35.881095Z",
     "shell.execute_reply": "2023-02-19T08:42:35.879789Z",
     "shell.execute_reply.started": "2023-02-19T08:42:34.989363Z"
    },
    "papermill": {
     "duration": null,
     "end_time": null,
     "exception": null,
     "start_time": null,
     "status": "pending"
    },
    "tags": []
   },
   "outputs": [],
   "source": [
    "import seaborn as sns \n",
    "sns.set_style(\"darkgrid\")"
   ]
  },
  {
   "cell_type": "code",
   "execution_count": null,
   "id": "51342f74",
   "metadata": {
    "execution": {
     "iopub.execute_input": "2023-02-19T07:05:50.581227Z",
     "iopub.status.busy": "2023-02-19T07:05:50.580686Z",
     "iopub.status.idle": "2023-02-19T07:05:51.865638Z",
     "shell.execute_reply": "2023-02-19T07:05:51.864210Z",
     "shell.execute_reply.started": "2023-02-19T07:05:50.581168Z"
    },
    "papermill": {
     "duration": null,
     "end_time": null,
     "exception": null,
     "start_time": null,
     "status": "pending"
    },
    "tags": []
   },
   "outputs": [],
   "source": [
    "sns.histplot(cities_by_accidents, log_scale=True)"
   ]
  },
  {
   "cell_type": "code",
   "execution_count": null,
   "id": "020cf67c",
   "metadata": {
    "execution": {
     "iopub.execute_input": "2023-02-19T07:08:36.774586Z",
     "iopub.status.busy": "2023-02-19T07:08:36.774074Z",
     "iopub.status.idle": "2023-02-19T07:08:36.787402Z",
     "shell.execute_reply": "2023-02-19T07:08:36.786134Z",
     "shell.execute_reply.started": "2023-02-19T07:08:36.774547Z"
    },
    "papermill": {
     "duration": null,
     "end_time": null,
     "exception": null,
     "start_time": null,
     "status": "pending"
    },
    "tags": []
   },
   "outputs": [],
   "source": [
    "cities_by_accidents[cities_by_accidents == 1]"
   ]
  },
  {
   "cell_type": "code",
   "execution_count": null,
   "id": "a7e17c47",
   "metadata": {
    "execution": {
     "iopub.execute_input": "2023-02-19T06:59:28.885429Z",
     "iopub.status.busy": "2023-02-19T06:59:28.884922Z",
     "iopub.status.idle": "2023-02-19T06:59:28.896175Z",
     "shell.execute_reply": "2023-02-19T06:59:28.894450Z",
     "shell.execute_reply.started": "2023-02-19T06:59:28.885394Z"
    },
    "papermill": {
     "duration": null,
     "end_time": null,
     "exception": null,
     "start_time": null,
     "status": "pending"
    },
    "tags": []
   },
   "outputs": [],
   "source": [
    "high_accident_cities = cities_by_accidents[cities_by_accidents >= 1000]\n",
    "low_accident_cities = cities_by_accidents[cities_by_accidents < 1000]"
   ]
  },
  {
   "cell_type": "code",
   "execution_count": null,
   "id": "71c46394",
   "metadata": {
    "execution": {
     "iopub.execute_input": "2023-02-19T06:59:44.600114Z",
     "iopub.status.busy": "2023-02-19T06:59:44.599640Z",
     "iopub.status.idle": "2023-02-19T06:59:44.607965Z",
     "shell.execute_reply": "2023-02-19T06:59:44.606895Z",
     "shell.execute_reply.started": "2023-02-19T06:59:44.600080Z"
    },
    "papermill": {
     "duration": null,
     "end_time": null,
     "exception": null,
     "start_time": null,
     "status": "pending"
    },
    "tags": []
   },
   "outputs": [],
   "source": [
    "len(high_accident_cities)"
   ]
  },
  {
   "cell_type": "code",
   "execution_count": null,
   "id": "244a75ca",
   "metadata": {
    "execution": {
     "iopub.execute_input": "2023-02-19T07:04:08.383638Z",
     "iopub.status.busy": "2023-02-19T07:04:08.383257Z",
     "iopub.status.idle": "2023-02-19T07:04:08.798575Z",
     "shell.execute_reply": "2023-02-19T07:04:08.797496Z",
     "shell.execute_reply.started": "2023-02-19T07:04:08.383607Z"
    },
    "papermill": {
     "duration": null,
     "end_time": null,
     "exception": null,
     "start_time": null,
     "status": "pending"
    },
    "tags": []
   },
   "outputs": [],
   "source": [
    "sns.distplot(high_accident_cities)"
   ]
  },
  {
   "cell_type": "markdown",
   "id": "c01881a7",
   "metadata": {
    "papermill": {
     "duration": null,
     "end_time": null,
     "exception": null,
     "start_time": null,
     "status": "pending"
    },
    "tags": []
   },
   "source": [
    "## Start Time"
   ]
  },
  {
   "cell_type": "code",
   "execution_count": null,
   "id": "6208ba0b",
   "metadata": {
    "execution": {
     "iopub.execute_input": "2023-02-19T08:41:55.493585Z",
     "iopub.status.busy": "2023-02-19T08:41:55.493130Z",
     "iopub.status.idle": "2023-02-19T08:41:57.043281Z",
     "shell.execute_reply": "2023-02-19T08:41:57.042014Z",
     "shell.execute_reply.started": "2023-02-19T08:41:55.493550Z"
    },
    "papermill": {
     "duration": null,
     "end_time": null,
     "exception": null,
     "start_time": null,
     "status": "pending"
    },
    "tags": []
   },
   "outputs": [],
   "source": [
    "df.Start_Time = pd.to_datetime(df.Start_Time)"
   ]
  },
  {
   "cell_type": "code",
   "execution_count": null,
   "id": "fe757593",
   "metadata": {
    "execution": {
     "iopub.execute_input": "2023-02-19T07:26:36.689562Z",
     "iopub.status.busy": "2023-02-19T07:26:36.689113Z",
     "iopub.status.idle": "2023-02-19T07:26:37.416056Z",
     "shell.execute_reply": "2023-02-19T07:26:37.414730Z",
     "shell.execute_reply.started": "2023-02-19T07:26:36.689526Z"
    },
    "papermill": {
     "duration": null,
     "end_time": null,
     "exception": null,
     "start_time": null,
     "status": "pending"
    },
    "tags": []
   },
   "outputs": [],
   "source": [
    "sns.distplot(df.Start_Time.dt.hour, bins=24, kde=False, norm_hist=True)"
   ]
  },
  {
   "cell_type": "markdown",
   "id": "f657cabc",
   "metadata": {
    "papermill": {
     "duration": null,
     "end_time": null,
     "exception": null,
     "start_time": null,
     "status": "pending"
    },
    "tags": []
   },
   "source": [
    "- higher accidents occur between 1pm to 6pm\n",
    "- next highest 6am to 9am"
   ]
  },
  {
   "cell_type": "code",
   "execution_count": null,
   "id": "ecc8e730",
   "metadata": {
    "execution": {
     "iopub.execute_input": "2023-02-19T07:32:51.169792Z",
     "iopub.status.busy": "2023-02-19T07:32:51.169254Z",
     "iopub.status.idle": "2023-02-19T07:32:51.926186Z",
     "shell.execute_reply": "2023-02-19T07:32:51.924440Z",
     "shell.execute_reply.started": "2023-02-19T07:32:51.169756Z"
    },
    "papermill": {
     "duration": null,
     "end_time": null,
     "exception": null,
     "start_time": null,
     "status": "pending"
    },
    "tags": []
   },
   "outputs": [],
   "source": [
    "sns.distplot(df.Start_Time.dt.dayofweek, bins=7, kde=False, norm_hist=True)"
   ]
  },
  {
   "cell_type": "code",
   "execution_count": null,
   "id": "d0f2139d",
   "metadata": {
    "execution": {
     "iopub.execute_input": "2023-02-19T08:42:44.410902Z",
     "iopub.status.busy": "2023-02-19T08:42:44.410413Z",
     "iopub.status.idle": "2023-02-19T08:42:45.165134Z",
     "shell.execute_reply": "2023-02-19T08:42:45.163852Z",
     "shell.execute_reply.started": "2023-02-19T08:42:44.410866Z"
    },
    "papermill": {
     "duration": null,
     "end_time": null,
     "exception": null,
     "start_time": null,
     "status": "pending"
    },
    "tags": []
   },
   "outputs": [],
   "source": [
    "sundays_start_time = df.Start_Time[df.Start_Time.dt.dayofweek == 6]\n",
    "sns.distplot(sundays_start_time.dt.hour, bins=24, kde=False, norm_hist=True)"
   ]
  },
  {
   "cell_type": "markdown",
   "id": "7bc12039",
   "metadata": {
    "papermill": {
     "duration": null,
     "end_time": null,
     "exception": null,
     "start_time": null,
     "status": "pending"
    },
    "tags": []
   },
   "source": [
    "On sundays the peak occur between 12pm to 7pm"
   ]
  },
  {
   "cell_type": "code",
   "execution_count": null,
   "id": "9b1f1f2d",
   "metadata": {
    "execution": {
     "iopub.execute_input": "2023-02-19T08:50:38.932698Z",
     "iopub.status.busy": "2023-02-19T08:50:38.932226Z",
     "iopub.status.idle": "2023-02-19T08:50:39.235466Z",
     "shell.execute_reply": "2023-02-19T08:50:39.234242Z",
     "shell.execute_reply.started": "2023-02-19T08:50:38.932649Z"
    },
    "papermill": {
     "duration": null,
     "end_time": null,
     "exception": null,
     "start_time": null,
     "status": "pending"
    },
    "tags": []
   },
   "outputs": [],
   "source": [
    "df.Start_Time.dt.year"
   ]
  },
  {
   "cell_type": "code",
   "execution_count": null,
   "id": "4b1e8b95",
   "metadata": {
    "execution": {
     "iopub.execute_input": "2023-02-19T08:46:45.563704Z",
     "iopub.status.busy": "2023-02-19T08:46:45.563194Z",
     "iopub.status.idle": "2023-02-19T08:46:46.289233Z",
     "shell.execute_reply": "2023-02-19T08:46:46.287862Z",
     "shell.execute_reply.started": "2023-02-19T08:46:45.563670Z"
    },
    "papermill": {
     "duration": null,
     "end_time": null,
     "exception": null,
     "start_time": null,
     "status": "pending"
    },
    "tags": []
   },
   "outputs": [],
   "source": [
    "monday_start_time = df.Start_Time[df.Start_Time.dt.dayofweek == 6]\n",
    "sns.distplot(monday_start_time.dt.month, bins=12, kde=False, norm_hist=True)"
   ]
  },
  {
   "cell_type": "markdown",
   "id": "745afa47",
   "metadata": {
    "papermill": {
     "duration": null,
     "end_time": null,
     "exception": null,
     "start_time": null,
     "status": "pending"
    },
    "tags": []
   },
   "source": [
    "explain the month-wise trends \n",
    "- much data is missing for 2016 and maybe even 2017\n"
   ]
  },
  {
   "cell_type": "markdown",
   "id": "3965d1fe",
   "metadata": {
    "papermill": {
     "duration": null,
     "end_time": null,
     "exception": null,
     "start_time": null,
     "status": "pending"
    },
    "tags": []
   },
   "source": [
    "df.Source.value_counts().plot(kind='pie')"
   ]
  },
  {
   "cell_type": "markdown",
   "id": "7eeceec1",
   "metadata": {
    "papermill": {
     "duration": null,
     "end_time": null,
     "exception": null,
     "start_time": null,
     "status": "pending"
    },
    "tags": []
   },
   "source": [
    "### Start latitude and longitude"
   ]
  },
  {
   "cell_type": "code",
   "execution_count": null,
   "id": "bb1a15e4",
   "metadata": {
    "execution": {
     "iopub.execute_input": "2023-02-19T09:05:11.181584Z",
     "iopub.status.busy": "2023-02-19T09:05:11.181136Z",
     "iopub.status.idle": "2023-02-19T09:05:25.074491Z",
     "shell.execute_reply": "2023-02-19T09:05:25.073136Z",
     "shell.execute_reply.started": "2023-02-19T09:05:11.181550Z"
    },
    "papermill": {
     "duration": null,
     "end_time": null,
     "exception": null,
     "start_time": null,
     "status": "pending"
    },
    "tags": []
   },
   "outputs": [],
   "source": [
    "sample_df = df.sample(int(0.1 * len(df)))\n",
    "sns.scatterplot(x=sample_df.Start_Lng, y=sample_df.Start_Lat, size= 0.0001)"
   ]
  },
  {
   "cell_type": "code",
   "execution_count": null,
   "id": "49403bc7",
   "metadata": {
    "execution": {
     "iopub.execute_input": "2023-02-19T09:05:53.065177Z",
     "iopub.status.busy": "2023-02-19T09:05:53.064697Z",
     "iopub.status.idle": "2023-02-19T09:05:53.072023Z",
     "shell.execute_reply": "2023-02-19T09:05:53.070285Z",
     "shell.execute_reply.started": "2023-02-19T09:05:53.065143Z"
    },
    "papermill": {
     "duration": null,
     "end_time": null,
     "exception": null,
     "start_time": null,
     "status": "pending"
    },
    "tags": []
   },
   "outputs": [],
   "source": [
    "import folium"
   ]
  },
  {
   "cell_type": "code",
   "execution_count": null,
   "id": "5bf9d12e",
   "metadata": {
    "execution": {
     "iopub.execute_input": "2023-02-19T09:07:52.359741Z",
     "iopub.status.busy": "2023-02-19T09:07:52.359019Z",
     "iopub.status.idle": "2023-02-19T09:07:52.368760Z",
     "shell.execute_reply": "2023-02-19T09:07:52.367808Z",
     "shell.execute_reply.started": "2023-02-19T09:07:52.359691Z"
    },
    "papermill": {
     "duration": null,
     "end_time": null,
     "exception": null,
     "start_time": null,
     "status": "pending"
    },
    "tags": []
   },
   "outputs": [],
   "source": [
    "lat, lon = df.Start_Lat[0], df.Start_Lng[0]\n",
    "lat, lon"
   ]
  },
  {
   "cell_type": "code",
   "execution_count": null,
   "id": "920282a9",
   "metadata": {
    "execution": {
     "iopub.execute_input": "2023-02-19T09:09:53.500054Z",
     "iopub.status.busy": "2023-02-19T09:09:53.499440Z",
     "iopub.status.idle": "2023-02-19T09:09:53.514667Z",
     "shell.execute_reply": "2023-02-19T09:09:53.513335Z",
     "shell.execute_reply.started": "2023-02-19T09:09:53.500020Z"
    },
    "papermill": {
     "duration": null,
     "end_time": null,
     "exception": null,
     "start_time": null,
     "status": "pending"
    },
    "tags": []
   },
   "outputs": [],
   "source": [
    "map = folium.Map()\n",
    "for lat\n",
    "marker= folium.Marker((lat, lon))\n",
    "marker.add_to(map)\n",
    "map"
   ]
  },
  {
   "cell_type": "markdown",
   "id": "fd0303a0",
   "metadata": {
    "papermill": {
     "duration": null,
     "end_time": null,
     "exception": null,
     "start_time": null,
     "status": "pending"
    },
    "tags": []
   },
   "source": [
    "# Ask and answer questions\n",
    "1. Are there more accidents in warmer or colder areas\n",
    "2. Which states have the highest number of accidents? how abour per capita?\n",
    "3. does newyork show in the data? why is the count less? ANSWERED \n",
    "4. state w the most frequent accidents\n",
    "5. what time of the day are accidents most frequent in? ANSWERED\n",
    "6. which day of the week have the most accidents \n",
    "7. which months have the most accidents\n",
    "8. what is the trend of accidents year over year\n",
    "9. when is accidents per unit of traffic the highest "
   ]
  },
  {
   "cell_type": "markdown",
   "id": "cc7b79f5",
   "metadata": {
    "papermill": {
     "duration": null,
     "end_time": null,
     "exception": null,
     "start_time": null,
     "status": "pending"
    },
    "tags": []
   },
   "source": []
  },
  {
   "cell_type": "code",
   "execution_count": null,
   "id": "2e4857cc",
   "metadata": {
    "papermill": {
     "duration": null,
     "end_time": null,
     "exception": null,
     "start_time": null,
     "status": "pending"
    },
    "tags": []
   },
   "outputs": [],
   "source": []
  },
  {
   "cell_type": "code",
   "execution_count": null,
   "id": "6f8b4a00",
   "metadata": {
    "papermill": {
     "duration": null,
     "end_time": null,
     "exception": null,
     "start_time": null,
     "status": "pending"
    },
    "tags": []
   },
   "outputs": [],
   "source": []
  },
  {
   "cell_type": "code",
   "execution_count": null,
   "id": "81bc5801",
   "metadata": {
    "papermill": {
     "duration": null,
     "end_time": null,
     "exception": null,
     "start_time": null,
     "status": "pending"
    },
    "tags": []
   },
   "outputs": [],
   "source": []
  },
  {
   "cell_type": "markdown",
   "id": "b442afcb",
   "metadata": {
    "papermill": {
     "duration": null,
     "end_time": null,
     "exception": null,
     "start_time": null,
     "status": "pending"
    },
    "tags": []
   },
   "source": [
    "# Summary and conclusion\n",
    "\n",
    "Insights:\n",
    "- no data from New York\n",
    "- no. of accidents per city decreases exponentially\n",
    "- less than 5% cities have more than 1000 yearly accidents \n",
    "- over 1100 cities have reported just 1 accident\n"
   ]
  },
  {
   "cell_type": "code",
   "execution_count": null,
   "id": "d3eabb44",
   "metadata": {
    "papermill": {
     "duration": null,
     "end_time": null,
     "exception": null,
     "start_time": null,
     "status": "pending"
    },
    "tags": []
   },
   "outputs": [],
   "source": []
  }
 ],
 "metadata": {
  "kernelspec": {
   "display_name": "Python 3",
   "language": "python",
   "name": "python3"
  },
  "language_info": {
   "codemirror_mode": {
    "name": "ipython",
    "version": 3
   },
   "file_extension": ".py",
   "mimetype": "text/x-python",
   "name": "python",
   "nbconvert_exporter": "python",
   "pygments_lexer": "ipython3",
   "version": "3.6.4"
  },
  "papermill": {
   "default_parameters": {},
   "duration": null,
   "end_time": null,
   "environment_variables": {},
   "exception": null,
   "input_path": "__notebook__.ipynb",
   "output_path": "__notebook__.ipynb",
   "parameters": {},
   "start_time": "2023-02-19T09:14:44.505899",
   "version": "2.3.4"
  }
 },
 "nbformat": 4,
 "nbformat_minor": 5
}